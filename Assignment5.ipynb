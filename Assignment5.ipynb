{
  "nbformat": 4,
  "nbformat_minor": 0,
  "metadata": {
    "colab": {
      "name": "Assignment5.ipynb",
      "provenance": []
    },
    "kernelspec": {
      "name": "python3",
      "display_name": "Python 3"
    }
  },
  "cells": [
    {
      "cell_type": "code",
      "metadata": {
        "id": "-ml1dJbPuiQE",
        "outputId": "f4e587cc-fab5-49bd-fac5-47aaac16bce3",
        "colab": {
          "base_uri": "https://localhost:8080/",
          "height": 34
        }
      },
      "source": [
        "#Write a function to compute 5/0 and use try/except to catch the exceptions.\n",
        "try:\n",
        "  a = 5/0\n",
        "  print(a)\n",
        "except:\n",
        "  print(\"We can't divide a number with Zero\")\n"
      ],
      "execution_count": 6,
      "outputs": [
        {
          "output_type": "stream",
          "text": [
            "We can't divide a number with Zero\n"
          ],
          "name": "stdout"
        }
      ]
    },
    {
      "cell_type": "code",
      "metadata": {
        "id": "NiMCouorvy0E",
        "outputId": "689804ad-3e11-4162-9c7d-bfffda9d9c01",
        "colab": {
          "base_uri": "https://localhost:8080/",
          "height": 153
        }
      },
      "source": [
        "#. Implement a Python program to generate all sentences where \n",
        "#subject is in  [\"Americans\", \"Indians\"] and verb is in [\"Play\", \"watch\"] and the object is in  [\"Baseball\",\"cricket\"].\n",
        "subject = [\"Americans\", \"Indians\"]\n",
        "verb  = [\"Play\", \"watch\"]\n",
        "objects = [\"Baseball\",\"cricket\"] \n",
        "for i in subject:\n",
        "  for j in verb:\n",
        "    for k in objects:\n",
        "      print(i,j,k)\n"
      ],
      "execution_count": 8,
      "outputs": [
        {
          "output_type": "stream",
          "text": [
            "Americans Play Baseball\n",
            "Americans Play cricket\n",
            "Americans watch Baseball\n",
            "Americans watch cricket\n",
            "Indians Play Baseball\n",
            "Indians Play cricket\n",
            "Indians watch Baseball\n",
            "Indians watch cricket\n"
          ],
          "name": "stdout"
        }
      ]
    }
  ]
}