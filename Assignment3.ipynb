{
  "nbformat": 4,
  "nbformat_minor": 0,
  "metadata": {
    "colab": {
      "name": "Assignment3.ipynb",
      "provenance": [],
      "collapsed_sections": []
    },
    "kernelspec": {
      "name": "python3",
      "display_name": "Python 3"
    }
  },
  "cells": [
    {
      "cell_type": "code",
      "metadata": {
        "id": "8cG-7N-KVBFG",
        "outputId": "8b074d8e-a0ee-4b06-e501-3bd16895660f",
        "colab": {
          "base_uri": "https://localhost:8080/",
          "height": 34
        }
      },
      "source": [
        "# Write a Python Program to implement your own myreduce() function which works exactly  like Python's built-in function reduce() \n",
        "def maxi(a,b):\n",
        "  if a>b:\n",
        "    return a\n",
        "  else:\n",
        "    return b\n",
        "def myreduce(func , l):\n",
        "  for i in range(0,len(l)-1):\n",
        "    max = func(l[i],l[i+1])\n",
        "  return max\n",
        "\n",
        "l=[12,36,45,23,6,71,63,98]\n",
        "res = myreduce(maxi,l)\n",
        "print(res)"
      ],
      "execution_count": 10,
      "outputs": [
        {
          "output_type": "stream",
          "text": [
            "98\n"
          ],
          "name": "stdout"
        }
      ]
    },
    {
      "cell_type": "code",
      "metadata": {
        "id": "6-jAMzM4V3D4",
        "outputId": "2865e593-0d51-4318-d7d4-ab236fd85c62",
        "colab": {
          "base_uri": "https://localhost:8080/",
          "height": 34
        }
      },
      "source": [
        "#  Write a Python program to implement your own myfilter() function which works exactly  like Python's built-in function filter() \n",
        "def even(n):\n",
        "  if n%2==0:\n",
        "    return True\n",
        "  else:\n",
        "    return False\n",
        "def myfilter(func,l):\n",
        "  result = []\n",
        "  for i in l :\n",
        "    if func(i) :\n",
        "      result.append(i)\n",
        "  return result\n",
        "l = [12,36,45,23,6,71,63,98]\n",
        "print(myfilter(even,l))"
      ],
      "execution_count": 16,
      "outputs": [
        {
          "output_type": "stream",
          "text": [
            "[12, 36, 6, 98]\n"
          ],
          "name": "stdout"
        }
      ]
    },
    {
      "cell_type": "code",
      "metadata": {
        "id": "NU6UxO8RZMJZ",
        "outputId": "c183d0d8-672a-4f50-9368-c65c7045b962",
        "colab": {
          "base_uri": "https://localhost:8080/",
          "height": 102
        }
      },
      "source": [
        "''' Write List comprehensions to produce the following Lists \n",
        "['A', 'C', 'A', 'D', 'G', 'I', ’L’, ‘ D’] \n",
        "['x', 'xx', 'xxx', 'xxxx', 'y', 'yy', 'yyy', 'yyyy', 'z', 'zz', 'zzz', 'zzzz']  \n",
        "['x', 'y', 'z', 'xx', 'yy', 'zz', 'xxx', 'yyy', 'zzz', 'xxxx', 'yyyy', 'zzzz']  \n",
        "[[2], [3], [4], [3], [4], [5], [4], [5], [6]]\n",
        "[[2, 3, 4, 5], [3, 4, 5, 6],  [4, 5, 6, 7], [5, 6, 7, 8]] '''\n",
        "\n",
        "print([i for i in 'ACADGILD'])\n",
        "print([i*j for i in ['x','y','z'] for j in range(1,5)])\n",
        "print([i*j for j in range(1,5) for i in ['x','y','z']])\n",
        "print([[i+j] for i in [2,3,4] for j in range(0,3)])\n",
        "print([[i+j for i in [2,3,4,5]] for j in range(0,4)])"
      ],
      "execution_count": 48,
      "outputs": [
        {
          "output_type": "stream",
          "text": [
            "['A', 'C', 'A', 'D', 'G', 'I', 'L', 'D']\n",
            "['x', 'xx', 'xxx', 'xxxx', 'y', 'yy', 'yyy', 'yyyy', 'z', 'zz', 'zzz', 'zzzz']\n",
            "['x', 'y', 'z', 'xx', 'yy', 'zz', 'xxx', 'yyy', 'zzz', 'xxxx', 'yyyy', 'zzzz']\n",
            "[[2], [3], [4], [3], [4], [5], [4], [5], [6]]\n",
            "[[2, 3, 4, 5], [3, 4, 5, 6], [4, 5, 6, 7], [5, 6, 7, 8]]\n"
          ],
          "name": "stdout"
        }
      ]
    },
    {
      "cell_type": "code",
      "metadata": {
        "id": "fxVn7KxMhoeX"
      },
      "source": [
        ""
      ],
      "execution_count": null,
      "outputs": []
    }
  ]
}