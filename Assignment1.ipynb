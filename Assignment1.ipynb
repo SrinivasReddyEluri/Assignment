{
  "nbformat": 4,
  "nbformat_minor": 0,
  "metadata": {
    "colab": {
      "name": "Untitled1.ipynb",
      "provenance": []
    },
    "kernelspec": {
      "name": "python3",
      "display_name": "Python 3"
    }
  },
  "cells": [
    {
      "cell_type": "code",
      "metadata": {
        "id": "85VXjBbNuzEq",
        "outputId": "dcca0a11-bbd2-405b-bf1d-d47125e796ae",
        "colab": {
          "base_uri": "https://localhost:8080/",
          "height": 54
        }
      },
      "source": [
        "# Write a program which will find all such numbers which are divisible by 7 but are not a multiple of 5, \n",
        "#between 2000 and 3200 (both included). The numbers obtained should be printed  in a comma-separated sequence on a single line. \n",
        "\n",
        "for i in range(2000,3201):\n",
        "  if (i % 7 == 0 and i % 5 != 0):\n",
        "    print(i , end=',')\n"
      ],
      "execution_count": 1,
      "outputs": [
        {
          "output_type": "stream",
          "text": [
            "2002,2009,2016,2023,2037,2044,2051,2058,2072,2079,2086,2093,2107,2114,2121,2128,2142,2149,2156,2163,2177,2184,2191,2198,2212,2219,2226,2233,2247,2254,2261,2268,2282,2289,2296,2303,2317,2324,2331,2338,2352,2359,2366,2373,2387,2394,2401,2408,2422,2429,2436,2443,2457,2464,2471,2478,2492,2499,2506,2513,2527,2534,2541,2548,2562,2569,2576,2583,2597,2604,2611,2618,2632,2639,2646,2653,2667,2674,2681,2688,2702,2709,2716,2723,2737,2744,2751,2758,2772,2779,2786,2793,2807,2814,2821,2828,2842,2849,2856,2863,2877,2884,2891,2898,2912,2919,2926,2933,2947,2954,2961,2968,2982,2989,2996,3003,3017,3024,3031,3038,3052,3059,3066,3073,3087,3094,3101,3108,3122,3129,3136,3143,3157,3164,3171,3178,3192,3199,"
          ],
          "name": "stdout"
        }
      ]
    },
    {
      "cell_type": "code",
      "metadata": {
        "id": "iIuCYi75v-mL",
        "outputId": "ec639184-431f-40e6-f2b9-2abefe0952e9",
        "colab": {
          "base_uri": "https://localhost:8080/",
          "height": 68
        }
      },
      "source": [
        "#Write a Python program to accept the user's first and last name and \n",
        "#then getting them printed in the the reverse order with a space between first name and last name. \n",
        "f = input()\n",
        "l = input()\n",
        "print(l,f)"
      ],
      "execution_count": 3,
      "outputs": [
        {
          "output_type": "stream",
          "text": [
            "Reddy\n",
            "Srinivas\n",
            "Srinivas Reddy\n"
          ],
          "name": "stdout"
        }
      ]
    },
    {
      "cell_type": "code",
      "metadata": {
        "id": "yRdcsBAEwTx_",
        "outputId": "949ef06b-c373-469d-8bf2-6aea916a0c60",
        "colab": {
          "base_uri": "https://localhost:8080/",
          "height": 34
        }
      },
      "source": [
        "#Write a Python program to find the volume of a sphere with diameter 12 cm.Formula: V=4/3 * π * r 3\n",
        "import math\n",
        "d = 12\n",
        "r = d / 2\n",
        "v = (4 / 3) * math.pi * r**3\n",
        "print(v)"
      ],
      "execution_count": 6,
      "outputs": [
        {
          "output_type": "stream",
          "text": [
            "904.7786842338603\n"
          ],
          "name": "stdout"
        }
      ]
    }
  ]
}