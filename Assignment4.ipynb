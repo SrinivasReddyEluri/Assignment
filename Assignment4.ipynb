{
  "nbformat": 4,
  "nbformat_minor": 0,
  "metadata": {
    "colab": {
      "name": "Assignment4.ipynb",
      "provenance": []
    },
    "kernelspec": {
      "name": "python3",
      "display_name": "Python 3"
    }
  },
  "cells": [
    {
      "cell_type": "code",
      "metadata": {
        "id": "so0exQNcP9Vm",
        "outputId": "9fd08895-3606-49cc-c229-c8c64b392395",
        "colab": {
          "base_uri": "https://localhost:8080/",
          "height": 34
        }
      },
      "source": [
        "#Write a Python Program(with class concepts) to find the area of the triangle using the below  formula. \n",
        "class parentClass:\n",
        "    def __init__(self, a, b, c):\n",
        "        self.a = a\n",
        "        self.b = b\n",
        "        self.c = c\n",
        "\n",
        "class subClass(parentClass):\n",
        "    def __init__(self, a, b, c):\n",
        "        super().__init__(a, b,c)\n",
        "\n",
        "    def area(self):\n",
        "        s = (self.a + self.b + self.c) / 2\n",
        "        area = (s * (s - self.a) * (s - self.b) * (s - self.c))** 0.5\n",
        "        return area     \n",
        "\n",
        "obj = subClass(3,4,5)\n",
        "print('Area of triangle = ',obj.area())\n",
        "\n"
      ],
      "execution_count": 42,
      "outputs": [
        {
          "output_type": "stream",
          "text": [
            "Area of triangle =  6.0\n"
          ],
          "name": "stdout"
        }
      ]
    },
    {
      "cell_type": "code",
      "metadata": {
        "id": "8lTB-Sh4QD03",
        "outputId": "b5da82ae-ffff-47c2-aa61-5631a994c22b",
        "colab": {
          "base_uri": "https://localhost:8080/",
          "height": 34
        }
      },
      "source": [
        "#Write a function filter_long_words() that takes a list of words and an integer n and returns  the list of words that are longer than n. \n",
        "\n",
        "def filter_long_words(l,n):\n",
        "  res=[]\n",
        "  for i in l :\n",
        "    if(len(i)<=n):\n",
        "      res.append(i)\n",
        "  return res\n",
        "input_list = ['hi','hello','good','summer','ineuron','cat','dog','srinu']\n",
        "result_list = filter_long_words(input_list,4)\n",
        "print(result_list)"
      ],
      "execution_count": 1,
      "outputs": [
        {
          "output_type": "stream",
          "text": [
            "['hi', 'good', 'cat', 'dog']\n"
          ],
          "name": "stdout"
        }
      ]
    },
    {
      "cell_type": "code",
      "metadata": {
        "id": "LqJQ9WSVRITf",
        "outputId": "93237e65-6534-4a67-f6e6-6a7e8f5bd381",
        "colab": {
          "base_uri": "https://localhost:8080/",
          "height": 34
        }
      },
      "source": [
        "#Write a Python program using function concept that maps list of words into a list of integers  representing the lengths of the corresponding words. \n",
        "def myfunc(l):\n",
        "  res = []\n",
        "  for i in l:\n",
        "    res.append(len(i))\n",
        "  return res\n",
        "\n",
        "l = ['ab','cde','erty']\n",
        "res = myfunc(l)\n",
        "print(res)"
      ],
      "execution_count": 2,
      "outputs": [
        {
          "output_type": "stream",
          "text": [
            "[2, 3, 4]\n"
          ],
          "name": "stdout"
        }
      ]
    },
    {
      "cell_type": "code",
      "metadata": {
        "id": "OSYr41BgTJYr",
        "outputId": "20ea19d3-3cb4-40ca-c48c-fe087db3fff0",
        "colab": {
          "base_uri": "https://localhost:8080/",
          "height": 51
        }
      },
      "source": [
        "#Write a Python function which takes a character (i.e. a string of length 1) and returns True if  it is a vowel, False otherwise.\n",
        "def myfunction(char):\n",
        "  s ='aeiouAEIOU'\n",
        "  if char in s :\n",
        "    return True\n",
        "  else:\n",
        "    return False\n",
        "c = input()\n",
        "res = myfunction(c)\n",
        "print(res)\n",
        "  "
      ],
      "execution_count": 43,
      "outputs": [
        {
          "output_type": "stream",
          "text": [
            "e\n",
            "True\n"
          ],
          "name": "stdout"
        }
      ]
    },
    {
      "cell_type": "code",
      "metadata": {
        "id": "921JjHa0gLUV"
      },
      "source": [
        ""
      ],
      "execution_count": null,
      "outputs": []
    }
  ]
}